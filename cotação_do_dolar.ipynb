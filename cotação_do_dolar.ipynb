{
  "nbformat": 4,
  "nbformat_minor": 0,
  "metadata": {
    "colab": {
      "provenance": [],
      "authorship_tag": "ABX9TyNilwtmXm5fQpzDlWezMaSh",
      "include_colab_link": true
    },
    "kernelspec": {
      "name": "python3",
      "display_name": "Python 3"
    },
    "language_info": {
      "name": "python"
    }
  },
  "cells": [
    {
      "cell_type": "markdown",
      "metadata": {
        "id": "view-in-github",
        "colab_type": "text"
      },
      "source": [
        "<a href=\"https://colab.research.google.com/github/Brenoxx27/Breno/blob/main/cota%C3%A7%C3%A3o_do_dolar.ipynb\" target=\"_parent\"><img src=\"https://colab.research.google.com/assets/colab-badge.svg\" alt=\"Open In Colab\"/></a>"
      ]
    },
    {
      "cell_type": "code",
      "execution_count": 1,
      "metadata": {
        "colab": {
          "base_uri": "https://localhost:8080/"
        },
        "id": "MIAG7eVpOk5u",
        "outputId": "665abf55-b144-4bbe-fcc0-4924be5d76ec"
      },
      "outputs": [
        {
          "output_type": "stream",
          "name": "stdout",
          "text": [
            "O dolar está esse valor 5.0198\n"
          ]
        }
      ],
      "source": [
        "import requests \n",
        "\n",
        "\n",
        "url = \"http://economia.awesomeapi.com.br/json/all/USD-BRL\"\n",
        "\n",
        "res = requests.get(url)\n",
        "\n",
        "if res.status_code == 200:\n",
        "    dolar = res.json()['USD']['low']\n",
        "    print(f\"O dolar está esse valor {dolar}\")  \n",
        "else:\n",
        "    print('deu erro')\n",
        "    \n",
        "\n"
      ]
    },
    {
      "cell_type": "code",
      "source": [],
      "metadata": {
        "id": "OSQ6zoZ3Olcl"
      },
      "execution_count": null,
      "outputs": []
    }
  ]
}